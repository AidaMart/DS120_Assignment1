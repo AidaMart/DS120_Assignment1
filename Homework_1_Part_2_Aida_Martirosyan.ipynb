{
 "cells": [
  {
   "cell_type": "markdown",
   "metadata": {
    "id": "68noDwMnKnMD"
   },
   "source": [
    "## Homework 1 - Part 2"
   ]
  },
  {
   "cell_type": "markdown",
   "metadata": {},
   "source": [
    "***Problem 1*** \n",
    "\n",
    "Write one line of code to print a chess board where **\"X\"s** are black squares and **\"O\"s** are white ones. The output should be exactly the same as in the below picture:\n",
    "<img src=\"chess.jpg\" style=\"width: 200px;\">\n",
    "**Hint:** String operations are enough to solve this problem."
   ]
  },
  {
   "cell_type": "code",
   "execution_count": 14,
   "metadata": {},
   "outputs": [
    {
     "name": "stdout",
     "output_type": "stream",
     "text": [
      "---------------------------------\n",
      "| O | X | O | X | O | X | O | X |\n",
      "---------------------------------\n",
      "| X | O | X | O | X | O | X | O |\n",
      "---------------------------------\n",
      "| O | X | O | X | O | X | O | X |\n",
      "---------------------------------\n",
      "| X | O | X | O | X | O | X | O |\n",
      "---------------------------------\n",
      "| O | X | O | X | O | X | O | X |\n",
      "---------------------------------\n",
      "| X | O | X | O | X | O | X | O |\n",
      "---------------------------------\n",
      "| O | X | O | X | O | X | O | X |\n",
      "---------------------------------\n",
      "| X | O | X | O | X | O | X | O |\n",
      "---------------------------------\n"
     ]
    }
   ],
   "source": [
    "print((\"-\"*33 + \"\\n|\" + \" O | X |\"*4 + \"\\n\" + \"-\"*33 + \"\\n|\" + \" X | O |\"*4 + \"\\n\")*4 + \"-\"*33)"
   ]
  },
  {
   "cell_type": "markdown",
   "metadata": {
    "id": "L-yIcCPnr4Si"
   },
   "source": [
    "**Problem 2**\n",
    "\n",
    "\n",
    "Hill list is a list of integers in which the element starting from index 0 increase to some value K at some index than decrease till the end of the list.\n",
    "Mathematically speaking Hill list is a list of elements [A0,A1,...,Ak-1,Ak,Ak+1,...An] such that A0 < A1 < A2...< Ak >Ak-1>AK-2...>An.\n",
    "\n",
    "Given a list of integers determine whether the list is a Hill list.\n",
    "\n",
    "**Note**: The length of the list is greater than or equal to 3."
   ]
  },
  {
   "cell_type": "code",
   "execution_count": 4,
   "metadata": {
    "id": "VLGQZhnItEKs"
   },
   "outputs": [
    {
     "name": "stdout",
     "output_type": "stream",
     "text": [
      "Is a Hill list\n"
     ]
    }
   ],
   "source": [
    "a = [1,2,1]\n",
    "index_ = 0\n",
    "b = []\n",
    "result = True\n",
    "\n",
    "for i, j in zip(a, a[1:]):\n",
    "    if i > j:\n",
    "        b.extend(a[index_:])\n",
    "        break\n",
    "    index_ += 1\n",
    "\n",
    "for x, y in zip(b, b[1:]):\n",
    "    if x < y:\n",
    "        result = False\n",
    "        break\n",
    "        \n",
    "if result == True:\n",
    "    print(\"Is a Hill list\")\n",
    "else:\n",
    "    print(\"Is not a Hill list\")"
   ]
  },
  {
   "cell_type": "markdown",
   "metadata": {
    "id": "C3rAoigsvQP9"
   },
   "source": [
    "**Problem 3**\n",
    "\n",
    "Given a list of integers, compute one of its modes. Mode is defined as the number or numbers that occur most frequently in the list."
   ]
  },
  {
   "cell_type": "code",
   "execution_count": 7,
   "metadata": {
    "colab": {
     "base_uri": "https://localhost:8080/"
    },
    "id": "xV7neQKSvr-f",
    "outputId": "9e0fee81-079a-434c-a623-78cd9186303b"
   },
   "outputs": [
    {
     "name": "stdout",
     "output_type": "stream",
     "text": [
      "4\n"
     ]
    }
   ],
   "source": [
    "a = [1, 2, 3, 4, 4, 4, 4]\n",
    "max_occur = a.count(a[0])\n",
    "max_occur_index = 0\n",
    "\n",
    "for i, j in enumerate(a):\n",
    "    if a.count(j) > max_occur:\n",
    "        max_occur = a.count(j)\n",
    "        max_occur_index = i\n",
    "        \n",
    "print(a[max_occur_index])"
   ]
  },
  {
   "cell_type": "markdown",
   "metadata": {},
   "source": [
    "**Problem 4** <br><br> Write a program to merge following two dictionaries."
   ]
  },
  {
   "cell_type": "code",
   "execution_count": 2,
   "metadata": {},
   "outputs": [],
   "source": [
    "infl1 = {'Armenia':2.5,'Russia':2.7,'S. Korea':2.9}\n",
    "infl2 = {'Armenia': 2.5, 'Russia': 2.7, 'S. Korea': 2.9, 'Georgia': 2.1, 'Moldova': 3.1}"
   ]
  },
  {
   "cell_type": "code",
   "execution_count": 3,
   "metadata": {},
   "outputs": [
    {
     "data": {
      "text/plain": [
       "{'Armenia': 2.5,\n",
       " 'Russia': 2.7,\n",
       " 'S. Korea': 2.9,\n",
       " 'Georgia': 2.1,\n",
       " 'Moldova': 3.1}"
      ]
     },
     "execution_count": 3,
     "metadata": {},
     "output_type": "execute_result"
    }
   ],
   "source": [
    "infl1.update(infl2)#1st solution\n",
    "infl1"
   ]
  },
  {
   "cell_type": "code",
   "execution_count": 5,
   "metadata": {},
   "outputs": [
    {
     "data": {
      "text/plain": [
       "{'Armenia': 2.5,\n",
       " 'Russia': 2.7,\n",
       " 'S. Korea': 2.9,\n",
       " 'Georgia': 2.1,\n",
       " 'Moldova': 3.1}"
      ]
     },
     "execution_count": 5,
     "metadata": {},
     "output_type": "execute_result"
    }
   ],
   "source": [
    "infl = {**infl1, **infl2} #2nd solution\n",
    "infl"
   ]
  },
  {
   "cell_type": "markdown",
   "metadata": {
    "id": "gg9fuGELyPy7"
   },
   "source": [
    "**Problem 5**\n",
    "\n",
    "Given a list of unique integers, compute the sum of absolute differences between each unique pair of elements in list."
   ]
  },
  {
   "cell_type": "code",
   "execution_count": 13,
   "metadata": {
    "colab": {
     "base_uri": "https://localhost:8080/"
    },
    "id": "AbECLYKQyjWm",
    "outputId": "11228d6f-31f5-411c-f129-d1042abb3ca1"
   },
   "outputs": [
    {
     "name": "stdout",
     "output_type": "stream",
     "text": [
      "13\n"
     ]
    }
   ],
   "source": [
    "a = [3,1,5,4]\n",
    "sum = 0\n",
    "\n",
    "for i in range(len(a)):\n",
    "    for j in a[i+1:]:\n",
    "        sum += abs(a[i] - j)\n",
    "print(sum)  "
   ]
  },
  {
   "cell_type": "markdown",
   "metadata": {
    "id": "Ef_FJ2Ma08R3"
   },
   "source": [
    "**Problem 6**\n",
    "\n",
    "Given an integer, compute how many odd digits the integer has."
   ]
  },
  {
   "cell_type": "code",
   "execution_count": 39,
   "metadata": {
    "colab": {
     "base_uri": "https://localhost:8080/"
    },
    "id": "SVpazJwl0yKV",
    "outputId": "908193bf-2169-4630-a3ef-4699dad293ae"
   },
   "outputs": [
    {
     "name": "stdout",
     "output_type": "stream",
     "text": [
      "4\n"
     ]
    }
   ],
   "source": [
    "n = 1234567\n",
    "n = str(n)\n",
    "count = 0\n",
    "for v in n:\n",
    "    if int(v) % 2 != 0:\n",
    "        count = count + 1\n",
    "print(count)"
   ]
  },
  {
   "cell_type": "markdown",
   "metadata": {
    "id": "aggwnIXFKnML"
   },
   "source": [
    "**Problem 7**\n",
    "\n",
    "\n",
    "Given a NxN matrix write a program that iterates over the upper diagonals of the matrix from upper left corner to bottom right corner and returns a list of values that were iterated over.\n",
    "\n",
    "Test Case Example:\n",
    "\n",
    "|1, 2, 3, 4|<br>\n",
    "|0, 5, 6, 7|<br>\n",
    "|0, 0, 8, 9|<br>\n",
    "|0, 0, 0, 1|<br>\n",
    "\n",
    "Output:\n",
    "\n",
    "\\[1, 5, 8 ,1, 2, 6, 9, 3, 7, 4\\]\n",
    "\n",
    "\n",
    "**Note**:\n",
    "\n",
    "The order of the values in the list matters.\n",
    "\n",
    "1 <= N <= 100 where N is the dimension of the matrix.\n",
    "\n",
    "-100 <= M\\[i\\]\\[j\\] <= 100 where M is the matrix and i, j are arbitrary indexes.\n",
    "\n",
    "Elements below the main diagonal are not necessarily 0.\n",
    "\n",
    "Learning Outcomes:\n",
    "\n",
    "This problem appears quite often in harder computer science problems particularly in dynamic programming and the goal is to\n",
    "\n",
    "familiarize you with this ad-hoc problem.\n",
    "\n",
    "**Hint:** Present matrix in form of list of lists (diagm = [[1,2,3,4],[0,5,6,7],[0,0,8,9],[0,0,0,1]])\n"
   ]
  },
  {
   "cell_type": "code",
   "execution_count": 24,
   "metadata": {
    "colab": {
     "base_uri": "https://localhost:8080/"
    },
    "id": "FJQDSwUsXJfz",
    "outputId": "5314e9d3-b6fb-4b66-ee75-74928ce29c7d"
   },
   "outputs": [
    {
     "name": "stdout",
     "output_type": "stream",
     "text": [
      "[1, 5, 8, 1, 2, 6, 9, 3, 7, 4]\n"
     ]
    }
   ],
   "source": [
    "a = [[1,2,3,4],[0,5,6,7],[0,0,8,9],[0,0,0,1]]\n",
    "b = []\n",
    "\n",
    "while a != []:\n",
    "    for i in range(len(a)):\n",
    "        for j in range(len(a[i])):\n",
    "            if i == j:\n",
    "                b.append(a[i][j])\n",
    "                \n",
    "    a.pop(len(a) -1)            \n",
    "    for k in range(len(a)):\n",
    "        a[k].pop(0)\n",
    "\n",
    "print(b)"
   ]
  },
  {
   "cell_type": "markdown",
   "metadata": {
    "id": "UZt5IbQUKnMP"
   },
   "source": [
    "**Problem 8**\n",
    "\n",
    "Taxicab(n) or in short Ta(n) is defined as the smallest integer that can be expressed as a sum of two positive integer cubes in n distinct ways. Write a program that takes as input the number N and returns the Nth Taxicab(n=2) number.\n",
    "\n",
    "**Test Case Example**: Return 1st (N=1) Taxicab(n=2) number.\n",
    "\n",
    "**Output**: 1729\n",
    "\n",
    "**Explanation**:\n",
    "\n",
    "1729 is the smallest integer number that can be expressed as a sum of two positive integer cubes in 2 and only 2 distinct ways\n",
    "\n",
    "1729 = 1^3 + 12^3 = 9^3 + 10^3\n",
    "\n",
    "**Note**: N will take values in range \\[1,100\\] inclusive\n",
    "\n",
    "**Hint**: \n",
    "First, you need to write a program to check whether a number is a Taxicab number by iterating over all positive integers less than the cube root of that number and output only Taxicab(n=2) numbers. Then, you need to output Nth Taxicab(n=2) number, given N."
   ]
  },
  {
   "cell_type": "code",
   "execution_count": 26,
   "metadata": {
    "id": "YIp78zdmKnMQ"
   },
   "outputs": [
    {
     "name": "stdout",
     "output_type": "stream",
     "text": [
      "Please indicate the value of N in range [1, 100]: 1\n",
      "1729\n"
     ]
    }
   ],
   "source": [
    "import math\n",
    "N = int(input(\"Please indicate the value of N in range [1, 100]: \"))\n",
    "n = 1\n",
    "count = 0\n",
    "while count < N:\n",
    "    count1 = 0\n",
    "    for x in range(1, math.ceil(n**(1/3))+1):\n",
    "        for y in range(x+1, math.ceil(n**(1/3))+1):\n",
    "            if x*x*x + y*y*y == n:\n",
    "                count1 += 1\n",
    "    if count1 == 2:\n",
    "        count += 1\n",
    "    n += 1 \n",
    "\n",
    "print(n - 1)   "
   ]
  },
  {
   "cell_type": "markdown",
   "metadata": {
    "id": "32uKYwmnKnMR"
   },
   "source": [
    "# **Problem 9**\n",
    "\n",
    "Given a list of numbers that are greater than or equal to zero, output the largest possible number that is the composite of the numbers in the list.\n",
    "\n",
    "**Test Case Example**: [56, 5, 57, 7]\n",
    "\n",
    "**Output**: 757565\n",
    "\n",
    "**Note**:\n",
    "\n",
    "The list is not necessarily sorted.\n",
    "\n",
    "1 <= N <= 20 where N is the length of the list\n",
    "\n",
    "0 <= List\\[i\\] <= 1000 where i is abritrary index in the list\n",
    "\n",
    "**Hint**:\n",
    "You need to have a program that compares two number combinations (e.g. whether 548 > 485 for numbers 5 and 48) and use some sorting algorithm to sort the numbers based on this comparison (you can use insertion sort). Search for it; we are not going to cover it during our course."
   ]
  },
  {
   "cell_type": "code",
   "execution_count": 3,
   "metadata": {},
   "outputs": [
    {
     "name": "stdout",
     "output_type": "stream",
     "text": [
      "757565\n"
     ]
    }
   ],
   "source": [
    "def compare(val1,val2):\n",
    "    \n",
    "    val1=str(val1)\n",
    "    val2=str(val2)\n",
    "    \n",
    "    return val1 + val2 < val2 + val1\n",
    "\n",
    "\n",
    "def insertion_sort(lst):\n",
    "\n",
    "    for i in range(1,len(lst)):\n",
    "\n",
    "        key = lst[i]\n",
    "        j = i - 1\n",
    "\n",
    "        while j >= 0 and compare(lst[j],key):\n",
    "\n",
    "            lst[j+1]=lst[j]\n",
    "            j-=1\n",
    "\n",
    "        lst[j+1]=key\n",
    "        \n",
    "    return int(\"\".join(str(i) for i in lst))\n",
    "\n",
    "        \n",
    "print(insertion_sort([56, 5, 57, 7]))"
   ]
  },
  {
   "cell_type": "markdown",
   "metadata": {
    "id": "2it8WzpNKnMS"
   },
   "source": [
    "**Problem 10**\n",
    "\n",
    "If you circumscribe a square to unit circle and generate random points within the square then the following relation will take place:\n",
    "\n",
    "Pi = 4 * (number of points inside the circle / total number of points)\n",
    "\n",
    "Write a program that will take input N (the number of generated points) and use the above-mentioned fact to return the estimated value of Pi.\n",
    "\n",
    "**Test Case Example**: 100000\n",
    "\n",
    "**Output**: 3.14032\n",
    "\n",
    "**Test Cases:** Check whether the output number is close to Pi. Million iterations would result in at least two floating point digit precision.\n",
    "\n",
    "![](square_circle.png)"
   ]
  },
  {
   "cell_type": "code",
   "execution_count": 31,
   "metadata": {},
   "outputs": [
    {
     "name": "stdout",
     "output_type": "stream",
     "text": [
      "Please indicate the number of generated points = 1000000\n",
      "Estimated value of Pi is 3.141568\n"
     ]
    }
   ],
   "source": [
    "import random \n",
    "N = int(input(\"Please indicate the number of generated points = \"))\n",
    "n_in_circle = 0\n",
    "n_total = N\n",
    "for i in range(N):\n",
    "    p1 = random.uniform(-1, 1.000000000000001)\n",
    "    p2 = random.uniform(-1, 1.000000000000001)\n",
    "    if p1**2 + p2**2 <= 1:\n",
    "        n_in_circle += 1\n",
    "print(f\"Estimated value of Pi is {4* n_in_circle/n_total}\")"
   ]
  },
  {
   "cell_type": "markdown",
   "metadata": {
    "id": "ST65QmELKnMT"
   },
   "source": [
    "**Problem 11**\n",
    "\n",
    "You are given an array of length N that contains non-negative integers. An array is called perfect if  j % 2 == a\\[j\\] % 2 where j is the index of array elements. At each step you can swap places of two array elements.\n",
    "\n",
    "Write a program that takes an array as an input and outputs number of swaps required to make the array perfect(if it is impossible to make the array perfect then the output is -1). Use 'list' data type to represent an array.\n",
    "\n",
    "**Test Case Example 1**: [4, 5, 7, 9] \n",
    "\n",
    "Output: -1\n",
    "\n",
    "**Test Case Example 2**: [2, 5, 8, 79]\n",
    "\n",
    "Output: 0"
   ]
  },
  {
   "cell_type": "code",
   "execution_count": 6,
   "metadata": {
    "id": "Cj1q8QvLKnMU"
   },
   "outputs": [
    {
     "name": "stdout",
     "output_type": "stream",
     "text": [
      "3\n"
     ]
    }
   ],
   "source": [
    "lst=[5, 10, 3, 2, 19, 4, 0]\n",
    "print(perf_arr(lst))\n",
    "\n",
    "def perf_arr(lst):\n",
    "    \n",
    "    counter = 0\n",
    "    switches = 0\n",
    "    for i in range(len(lst)):\n",
    "        \n",
    "        if lst[i] % 2 == 1:\n",
    "                \n",
    "            counter+=1\n",
    "\n",
    "            if i % 2 != 1:\n",
    "\n",
    "                switches+=1\n",
    "        \n",
    "    if counter != len(lst)//2:\n",
    "        return -1\n",
    "    else:\n",
    "        return switches"
   ]
  },
  {
   "cell_type": "markdown",
   "metadata": {
    "id": "6Rk4uqxjKnMW"
   },
   "source": [
    "**Problem 12**\n",
    "\n",
    "Colatz conjecture is one of the current misteries of mathematics that remains unsolved even to this day. Colatz sequence is defined as follows. If N is even then the next number is N/2, if N is odd then the next number is 3*N+1.\n",
    "\n",
    "Write a program that takes input N where N is the first number in colatz sequence, and outputs number of steps that are required to reach 1.\n",
    "\n",
    "**Test Case Example**: 8\n",
    "\n",
    "**Output**: 3\n",
    "\n",
    "The sequence is 8, 4, 2, and 1 and three steps were required to reach \n",
    "\n",
    "**Note**: 1 <= N <= 10^4"
   ]
  },
  {
   "cell_type": "code",
   "execution_count": 40,
   "metadata": {
    "colab": {
     "base_uri": "https://localhost:8080/"
    },
    "id": "cFBY-K4pKnMW",
    "outputId": "468539cd-b4ba-425f-a400-e8902df3ba0a"
   },
   "outputs": [
    {
     "name": "stdout",
     "output_type": "stream",
     "text": [
      "Please indicate the number 8\n",
      "3\n"
     ]
    }
   ],
   "source": [
    "first_number = int(input(\"Please indicate the number \"))\n",
    "steps = 0\n",
    "while(first_number != 1):\n",
    "    steps += 1\n",
    "    if first_number % 2 == 0:\n",
    "        first_number /= 2\n",
    "    else:\n",
    "        first_number = first_number * 3 + 1\n",
    "        \n",
    "print(steps)"
   ]
  },
  {
   "cell_type": "markdown",
   "metadata": {},
   "source": [
    "***Problem 13*** \n",
    "\n",
    "Write a program that randomly generates a nine-character password. First 3 characters must be from the set \"let\", second 3 characters from the set \"num\", last three ones from the set \"sym\". Set seed() to 42 and generate a password."
   ]
  },
  {
   "cell_type": "code",
   "execution_count": 35,
   "metadata": {},
   "outputs": [],
   "source": [
    "let = ['A','B','C','a','b','c']\n",
    "num = ['1','2','3','4','5','6']\n",
    "sym = ['!','@','#','$','%','^']"
   ]
  },
  {
   "cell_type": "code",
   "execution_count": 37,
   "metadata": {},
   "outputs": [
    {
     "data": {
      "text/plain": [
       "'cAA632@@^'"
      ]
     },
     "execution_count": 37,
     "metadata": {},
     "output_type": "execute_result"
    }
   ],
   "source": [
    "import random\n",
    "password = \"\"\n",
    "\n",
    "random.seed(42)\n",
    "\n",
    "for i in range(3):\n",
    "    password += random.choice(let)    \n",
    "for i in range(3):\n",
    "    password += random.choice(num)\n",
    "for i in range(3):\n",
    "    password += random.choice(sym)   \n",
    "password"
   ]
  },
  {
   "cell_type": "markdown",
   "metadata": {},
   "source": [
    "***Problem 14*** \n",
    "\n",
    "Write a program that converts \"firstname lastname\" to \"lastname, firstname\", using list comprehensions."
   ]
  },
  {
   "cell_type": "code",
   "execution_count": 27,
   "metadata": {},
   "outputs": [],
   "source": [
    "ls = ['Հրաչյա Վարդանյան', 'Անուշ Կարապետյան', 'Գոռ Անտոնյան', 'Տաթեւ Հարությունյան', 'Mary Sargsyan']"
   ]
  },
  {
   "cell_type": "code",
   "execution_count": 28,
   "metadata": {},
   "outputs": [
    {
     "name": "stdout",
     "output_type": "stream",
     "text": [
      "['Վարդանյան, Հրաչյա', 'Կարապետյան, Անուշ', 'Անտոնյան, Գոռ', 'Հարությունյան, Տաթեւ', 'Sargsyan, Mary']\n"
     ]
    }
   ],
   "source": [
    "LS = [ls[x].split() for x in range(len(ls))]\n",
    "LS1 = [LS[y][1] + \", \" + LS[y][0] for y in range(len(LS))]\n",
    "print(LS1)"
   ]
  },
  {
   "cell_type": "markdown",
   "metadata": {},
   "source": [
    "***Problem 15*** \n",
    "\n",
    "Write a program to count the number of occurencies of each word in the text and creates a dictionary where words are keys and counts are value. Before that, make all words lowercase, remove commas, periods and redundant spaces."
   ]
  },
  {
   "cell_type": "code",
   "execution_count": 71,
   "metadata": {},
   "outputs": [],
   "source": [
    "text = \"\"\"There’s clearly a shortage of data scientists to help companies use more of their data,\n",
    "so pursuing a career in the field puts today’s students at a distinct advantage\n",
    "when it comes to staying away from the unemployment lines after graduation. \n",
    "Data science is fast becoming one of today’s most in-demand careers, and \n",
    "in fact, the prescient Harvard Business Review declared data science as \n",
    "\"the sexiest career of the 21st century\" six years ago.\"\"\""
   ]
  },
  {
   "cell_type": "code",
   "execution_count": 72,
   "metadata": {},
   "outputs": [
    {
     "name": "stdout",
     "output_type": "stream",
     "text": [
      "{'there’s': 1, 'clearly': 1, 'a': 3, 'shortage': 1, 'of': 4, 'data': 4, 'scientists': 1, 'to': 2, 'help': 1, 'companies': 1, 'use': 1, 'more': 1, 'their': 1, 'so': 1, 'pursuing': 1, 'career': 2, 'in': 2, 'the': 4, 'field': 1, 'puts': 1, 'today’s': 2, 'students': 1, 'at': 1, 'distinct': 1, 'advantage': 1, 'when': 1, 'it': 1, 'comes': 1, 'staying': 1, 'away': 1, 'from': 1, 'unemployment': 1, 'lines': 1, 'after': 1, 'graduation.': 1, 'science': 2, 'is': 1, 'fast': 1, 'becoming': 1, 'one': 1, 'most': 1, 'in-demand': 1, 'careers': 1, 'and': 1, 'fact': 1, 'prescient': 1, 'harvard': 1, 'business': 1, 'review': 1, 'declared': 1, 'as': 1, '\"the': 1, 'sexiest': 1, '21st': 1, 'century\"': 1, 'six': 1, 'years': 1, 'ago.': 1}\n"
     ]
    }
   ],
   "source": [
    "text = text.lower()\n",
    "text = text.replace(\",\", \"\")\n",
    "text = text.replace(\"\\n\", \" \")\n",
    "text = text.replace(\"  \", \" \")\n",
    "a = text.split()\n",
    "\n",
    "result = {}\n",
    "for i in range(len(a)):\n",
    "    result[a[i]] = a.count(a[i])\n",
    "\n",
    "print(result)\n",
    "\n"
   ]
  },
  {
   "cell_type": "markdown",
   "metadata": {},
   "source": [
    "***Problem 16***\n",
    "\n",
    "Write a program that takes **input** *list l* and *integer n* and **returns** a list of lists, spliting the input list by every n-th element (**Example:** $[1,2,3,4,5,6,7,8,9,10]$ to $[[1,4,7,10],[2,5,8],[3,6,9]]$ when $n=3$ or $[[1,5,9],[2,6,10],[3,7],[4,8]]$ when $n=4$. Run the program for l=[1,2,3,4,5,1,2,3,4,5,1,2,3] and n=5."
   ]
  },
  {
   "cell_type": "code",
   "execution_count": 52,
   "metadata": {},
   "outputs": [
    {
     "name": "stdout",
     "output_type": "stream",
     "text": [
      "[[1, 1, 1], [2, 2, 2], [3, 3, 3], [4, 4], [5, 5]]\n"
     ]
    }
   ],
   "source": [
    "l = [1,2,3,4,5,1,2,3,4,5,1,2,3]\n",
    "n = 5\n",
    "result = []\n",
    "\n",
    "for i in range(n):\n",
    "    result.append(l[i::n])\n",
    "    \n",
    "print(result)"
   ]
  },
  {
   "cell_type": "markdown",
   "metadata": {},
   "source": [
    "# End"
   ]
  }
 ],
 "metadata": {
  "colab": {
   "collapsed_sections": [],
   "name": "homework2.ipynb",
   "provenance": []
  },
  "kernelspec": {
   "display_name": "Python 3",
   "language": "python",
   "name": "python3"
  },
  "language_info": {
   "codemirror_mode": {
    "name": "ipython",
    "version": 3
   },
   "file_extension": ".py",
   "mimetype": "text/x-python",
   "name": "python",
   "nbconvert_exporter": "python",
   "pygments_lexer": "ipython3",
   "version": "3.8.5"
  }
 },
 "nbformat": 4,
 "nbformat_minor": 1
}

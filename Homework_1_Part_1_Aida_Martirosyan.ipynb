{
 "cells": [
  {
   "cell_type": "markdown",
   "metadata": {
    "id": "sIN1YTuMbgkm"
   },
   "source": [
    "## Homework 1 - Part 1"
   ]
  },
  {
   "cell_type": "markdown",
   "metadata": {
    "id": "cnZ3dC71bgko"
   },
   "source": [
    "**Problem 1** <br><br>\n",
    "Python is a dynamically-typed language. What does this mean?"
   ]
  },
  {
   "cell_type": "markdown",
   "metadata": {
    "id": "UsQjvRrQbgko"
   },
   "source": [
    "**Answer**: This means that there is no need to indicate the data type of an object in front of the identifier while assigning  it because Python does it itself."
   ]
  },
  {
   "cell_type": "markdown",
   "metadata": {
    "id": "ohDIL0bIbgkp"
   },
   "source": [
    "**Problem 2** <br><br>\n",
    "Which of the following cannot be an identifier and why?<br>\n",
    "Integra1 , _PythON@ , _I-LOVE_PYTHON, d34DB33F, 1337Python, lambda"
   ]
  },
  {
   "cell_type": "markdown",
   "metadata": {
    "id": "yr9EPI0bbgkp"
   },
   "source": [
    "**Answer**: _PythON@ and _I-LOVE_PYTHON can not be identifiers as they include characters like '@', '-', but we know that we               can only use letters, numbers and underscore( _ ) while creating an identifier.\n",
    "            1337Python can not be an identifier because an identifier can not begin with a number.\n",
    "            Finally, lambda also can not be an identifier as it is one of the 33 reserved words that people can not use for                 creating identifiers."
   ]
  },
  {
   "cell_type": "markdown",
   "metadata": {
    "id": "9IQmhGkSbgkp"
   },
   "source": [
    "**Problem 3** <br><br>\n",
    "Why isn’t it recommended to use built-in functions like list, dict, int, sum or max as identifiers?"
   ]
  },
  {
   "cell_type": "markdown",
   "metadata": {
    "id": "x2iINqMCbgkw"
   },
   "source": [
    "**Answer**: It is not recommended to use built-in functions as identifiers because in that case we will have problems afterwards if we call the same function. For example if we create an identifier with the name of 'sum' and then call sum function for adding some numbers, we will see that function will not work. So, to avoid this kind of problems we should not use built-in functions as identifiers."
   ]
  },
  {
   "cell_type": "markdown",
   "metadata": {
    "id": "FZdptuQVbgkx"
   },
   "source": [
    "**Problem 4** <br><br>\n",
    "In the statements bellow what is the final value of a and d and why?"
   ]
  },
  {
   "cell_type": "code",
   "execution_count": 1,
   "metadata": {
    "id": "YUjJ0UR3bgkx",
    "outputId": "48e9b232-e0bb-4662-8e69-00691672939e"
   },
   "outputs": [],
   "source": [
    "# Case 1\n",
    "a = 1\n",
    "b = a\n",
    "b = 5\n",
    "\n",
    "# Case 2\n",
    "c = 2\n",
    "d = c\n",
    "c = 7"
   ]
  },
  {
   "cell_type": "markdown",
   "metadata": {
    "id": "-Cobf3bsbgky"
   },
   "source": [
    "**Answer**: Case 1) The final value of a is 1, because from the beginning we assigned 1 to a and did not change the value of a afterwards. We look from above to down as we know that the code runs from the starting line to the end.\n",
    "Case 2) The final value of d is 2 because in this case again we go line by line from the beginning. Firstly, we assigned 2 to c and then created d which is equal to c, so the value of c is copied and became the value of d."
   ]
  },
  {
   "cell_type": "markdown",
   "metadata": {
    "id": "ezm6TLOQbgky"
   },
   "source": [
    "**Problem 5** <br><br>\n",
    "Assign values 5, “a”, 8.2 to identifiers a, b, c respectively in two different ways, using only one line of code for each way."
   ]
  },
  {
   "cell_type": "code",
   "execution_count": null,
   "metadata": {
    "id": "rE-MlYpibgky"
   },
   "outputs": [],
   "source": [
    "a, b, c = 5, \"a\", 8.2"
   ]
  },
  {
   "cell_type": "code",
   "execution_count": null,
   "metadata": {
    "id": "aKSc60u_bgkz"
   },
   "outputs": [],
   "source": [
    "a = 5; b = \"a\"; c = 8.2"
   ]
  },
  {
   "cell_type": "markdown",
   "metadata": {
    "id": "q9RbXg6Xbgkz"
   },
   "source": [
    "**Problem 6** <br><br>\n",
    "Swap values of p and q in 7 distinct ways, using only one line of code for each way and without using other identifiers."
   ]
  },
  {
   "cell_type": "code",
   "execution_count": 1,
   "metadata": {
    "id": "qqmE_tnibgkz"
   },
   "outputs": [],
   "source": [
    "p = 5\n",
    "q = 2"
   ]
  },
  {
   "cell_type": "code",
   "execution_count": null,
   "metadata": {
    "colab": {
     "base_uri": "https://localhost:8080/"
    },
    "id": "2Io9yfhQbgkz",
    "outputId": "ab62453a-8b31-4ee5-aebe-2fd6d2640abf"
   },
   "outputs": [],
   "source": [
    "p, q = q, p"
   ]
  },
  {
   "cell_type": "code",
   "execution_count": 2,
   "metadata": {},
   "outputs": [],
   "source": [
    "q = q + p; p = q - p; q = q - p"
   ]
  },
  {
   "cell_type": "code",
   "execution_count": null,
   "metadata": {},
   "outputs": [],
   "source": [
    "q = q * p; p = q // p; q = q // p"
   ]
  },
  {
   "cell_type": "code",
   "execution_count": null,
   "metadata": {},
   "outputs": [],
   "source": [
    "q ^= p; p ^= q; q ^= p"
   ]
  },
  {
   "cell_type": "code",
   "execution_count": null,
   "metadata": {},
   "outputs": [],
   "source": [
    "q = (q & p) + (q|p); p = q + (~p) + 1; q = q + (~p) + 1;"
   ]
  },
  {
   "cell_type": "code",
   "execution_count": null,
   "metadata": {},
   "outputs": [],
   "source": [
    "q = q - p; p = q + p; q = p - q"
   ]
  },
  {
   "cell_type": "code",
   "execution_count": null,
   "metadata": {},
   "outputs": [],
   "source": [
    "p, q = int(f\"{q}\"), int(f\"{p}\")"
   ]
  },
  {
   "cell_type": "markdown",
   "metadata": {
    "id": "Y_NcAMWubgkz"
   },
   "source": [
    "**Problem 7** <br><br>\n",
    "Which of the following data types are mutable?\n",
    "\n",
    "None, bool, int, float, str, list, tuple, set, frozenset, dict"
   ]
  },
  {
   "cell_type": "markdown",
   "metadata": {
    "id": "gN6JY6nebgk0"
   },
   "source": [
    "**Answer**: list, set, dict are mutable"
   ]
  },
  {
   "cell_type": "markdown",
   "metadata": {
    "id": "CiJq-oh2bgk0"
   },
   "source": [
    "**Problem 8** <br><br>\n",
    "What is the bool value of the following objects and explain why it is so?"
   ]
  },
  {
   "cell_type": "code",
   "execution_count": null,
   "metadata": {
    "id": "TPL5HSS1bgk0"
   },
   "outputs": [],
   "source": [
    "None;  dict(); [None]; 0; False; True; int; {None:None}; bool"
   ]
  },
  {
   "cell_type": "markdown",
   "metadata": {
    "id": "oixbehiBbgk1"
   },
   "source": [
    "**Answer**: bool is built-in type, which has values True and False. All empty values of data types such as 0, 0.0, \"\", None, {}, [], () are False and other values are True. So, bool(None), bool(dict()), bool(0), bool(False) will return False as they are empty values. On the other hand, bool([None]), bool(True), bool(int), bool({None:None}), bool(bool) will return True because they are not empty. \n"
   ]
  },
  {
   "cell_type": "markdown",
   "metadata": {
    "id": "KaIZkf17bgk1"
   },
   "source": [
    "**Problem 9** <br><br>\n",
    "Find at least three pairs of one decimal place floats a and b in range (0,1) such that a+b has a rounding problem. \n",
    "Explain why the rounding problem occurs.\n",
    "\n",
    "\n",
    "**Note**: one decimal place floats are 0.1,0.2... and so on.\n",
    "\n",
    "**Example**: One example of such a pair are 0.1 and 0.2 because 0.1 + 0.2 = 0.30000000000000004. The example pair cannot be used in the answer."
   ]
  },
  {
   "cell_type": "markdown",
   "metadata": {},
   "source": [
    "**Answer**: 1st pair: 0.6 and 0.7 ; 2nd pair: 0.8 and 0.9 ; 3rd pair: 0.2 and 0.7 ;\n",
    "Mainly we face rounding problems because of the infinity of all real or floating-point numbers, which computers can not represent by the finite memory. So, that is why many numbers in the computer are kept in their approximation forms and when we do any operation with those approximated numbers, of course, as a result we receive approximated calculations.     \n"
   ]
  },
  {
   "cell_type": "markdown",
   "metadata": {
    "id": "IVTpEmzIbgk1"
   },
   "source": [
    "**Problem 10** <br><br>\n",
    "Generate two random integers and check whether they have the same memory address without using \"id\" function."
   ]
  },
  {
   "cell_type": "code",
   "execution_count": 2,
   "metadata": {
    "id": "MjHIeeFtbgk2",
    "outputId": "79eadfb4-9692-45f1-c731-692416ad9dde"
   },
   "outputs": [
    {
     "name": "stdout",
     "output_type": "stream",
     "text": [
      "1\n",
      "14\n",
      "False\n"
     ]
    }
   ],
   "source": [
    "import random\n",
    "a = random.randint(1, 20)\n",
    "b = random.randint(1, 20)\n",
    "print(a)\n",
    "print(b)\n",
    "print(a is b)\n",
    "# as we see with the help of \"is\" operator we can check if objects have the same memories or not."
   ]
  },
  {
   "cell_type": "markdown",
   "metadata": {
    "id": "Pix642STbgk2"
   },
   "source": [
    "**Problem 11** <br><br>\n",
    "Generate a random floating-point number in the range \\[0,1\\) and find the floor and ceil of that number."
   ]
  },
  {
   "cell_type": "code",
   "execution_count": 3,
   "metadata": {
    "id": "GEC_yC38bgk2",
    "outputId": "1e3cf032-d4eb-49fc-b6ea-f8ce7487b405"
   },
   "outputs": [
    {
     "name": "stdout",
     "output_type": "stream",
     "text": [
      "0.223954201850308\n",
      "0\n",
      "1\n"
     ]
    }
   ],
   "source": [
    "import math; import random\n",
    "c = random.random()\n",
    "print(c)\n",
    "\n",
    "print(math.floor(c))\n",
    "print(math.ceil(c))"
   ]
  },
  {
   "cell_type": "markdown",
   "metadata": {
    "id": "W7m4NebYbgk2"
   },
   "source": [
    "**Problem 12** <br><br>\n",
    "Generate 3 random integers in the range \\[0,50\\] and find the maximum value among them."
   ]
  },
  {
   "cell_type": "code",
   "execution_count": 20,
   "metadata": {
    "colab": {
     "base_uri": "https://localhost:8080/"
    },
    "id": "ja9E2bjtbgk3",
    "outputId": "99a4287f-1130-4746-b42a-0beba049c68d"
   },
   "outputs": [
    {
     "name": "stdout",
     "output_type": "stream",
     "text": [
      "27 23 17\n",
      "27\n"
     ]
    }
   ],
   "source": [
    "import random\n",
    "d = random.randint(0, 50)\n",
    "e = random.randint(0, 50)\n",
    "f = random.randint(0, 50)\n",
    "print(d, e, f)\n",
    "\n",
    "print(max(d, e, f))"
   ]
  },
  {
   "cell_type": "markdown",
   "metadata": {
    "id": "5Og25Gvebgk3"
   },
   "source": [
    "**Problem 13** <br><br>\n",
    "Generate a random integer in range \\[100000,999999\\] and convert the integer into a string. \n",
    "After that randomly select two characters from the obtained string and check whether their absolute difference is greater than 5."
   ]
  },
  {
   "cell_type": "code",
   "execution_count": 21,
   "metadata": {
    "colab": {
     "base_uri": "https://localhost:8080/"
    },
    "id": "mVibSN4fbgk3",
    "outputId": "468ea652-858a-45bf-8c7e-8c1f52e3cede"
   },
   "outputs": [
    {
     "name": "stdout",
     "output_type": "stream",
     "text": [
      "0 9 809979\n",
      "True\n"
     ]
    }
   ],
   "source": [
    "import random\n",
    "number = random.randint(100000, 999999)\n",
    "number = str(number)\n",
    "\n",
    "char1 = random.choice(number)\n",
    "char2 = random.choice(number)\n",
    "print(char1, char2, number)\n",
    "\n",
    "print(abs(int(char1) - int(char2)) > 5)\n"
   ]
  },
  {
   "cell_type": "markdown",
   "metadata": {
    "id": "6Rbum3UZbgk4"
   },
   "source": [
    "**Problem 14** <br><br>\n",
    "Generate a random even integer in the range [0,100] inclusive and get the string representation of the number without using the str() function"
   ]
  },
  {
   "cell_type": "code",
   "execution_count": 1,
   "metadata": {
    "colab": {
     "base_uri": "https://localhost:8080/",
     "height": 35
    },
    "id": "3ddY1Xuibgk4",
    "outputId": "2bfd92cf-17aa-4684-a15c-3ccad47e4565"
   },
   "outputs": [
    {
     "data": {
      "text/plain": [
       "'42'"
      ]
     },
     "execution_count": 1,
     "metadata": {},
     "output_type": "execute_result"
    }
   ],
   "source": [
    "import random\n",
    "evenN = random.randrange(0, 101, 2)\n",
    "\n",
    "repr(evenN)"
   ]
  },
  {
   "cell_type": "markdown",
   "metadata": {
    "id": "_gSgtVkjbgk4"
   },
   "source": [
    "**Problem 15** <br><br>\n",
    "Explain the difference between 'is' and '==' operators and explain why they cannot be used interchangeably."
   ]
  },
  {
   "cell_type": "markdown",
   "metadata": {
    "id": "Qo0gyWtHGcVY"
   },
   "source": [
    "**Answer**: 'is' operator is used to check the identities of objects. It returns True if the identities of objects are the same. '==' operator is used to check the values of objects. When the values are equal the result is True. So, their functionality is different. With these two operators we should be careful because when ids are the same('is' returns True) then values are also the same('==' also returns True), but we can have a case, where ids are different but objects are equal. For example if a = 1000, b = 1000, a is b returns False, but a == b returns True. That is why they cannot be used interchangeably."
   ]
  },
  {
   "cell_type": "markdown",
   "metadata": {
    "id": "DoOjHqWDbgk4"
   },
   "source": [
    "**Problem 16** <br><br>\n",
    "Imagine there is a circle of radius 1 centered at the coordinate (0,0). Generate two random floats a and b between [-2,2]\n",
    "and check whether the point (a, b) is within the circle."
   ]
  },
  {
   "cell_type": "code",
   "execution_count": 2,
   "metadata": {
    "colab": {
     "base_uri": "https://localhost:8080/"
    },
    "id": "nT2UNAmibgk5",
    "outputId": "a961692a-a95e-4d94-81c9-c16a7185ffca"
   },
   "outputs": [
    {
     "name": "stdout",
     "output_type": "stream",
     "text": [
      "-0.4012315683011276 0.946631576080526\n",
      "True\n"
     ]
    }
   ],
   "source": [
    "import random\n",
    "a = random.uniform(-2, 2.000000000000001)\n",
    "b = random.uniform(-2, 2.000000000000001)\n",
    "print(a, b)\n",
    "\n",
    "print( (-1 <= a <= 1) and (-1 <= b <= 1) )\n",
    "# if the result is True, then the point is within the circle and as I included the cases when they are equal to 1, -1\n",
    "# it will also return True if the point is on the circle(if we do not need that case we can remove equal signs)"
   ]
  },
  {
   "cell_type": "markdown",
   "metadata": {
    "id": "vR63ePl7bgk5"
   },
   "source": [
    "**Problem 17** <br><br>\n",
    "Assign 42 to identifiers m and n, using the minimum number of characters."
   ]
  },
  {
   "cell_type": "code",
   "execution_count": null,
   "metadata": {
    "id": "0Xlsfk_9bgk5"
   },
   "outputs": [],
   "source": [
    "m = n = 42"
   ]
  },
  {
   "cell_type": "markdown",
   "metadata": {
    "id": "1h48PXY0bgk5"
   },
   "source": [
    "**Problem 18** <br><br>\n",
    "Check if the number is within the range [-5,256], using the minimum number of characters.\n",
    "\n",
    "**Note**: There is no need to write an if statement. All that is required is an expression with a minimum number of characters which returns True or False."
   ]
  },
  {
   "cell_type": "code",
   "execution_count": 10,
   "metadata": {
    "id": "vr75hTXNbgk5"
   },
   "outputs": [],
   "source": [
    "x=25\n",
    "## x=25 is not counted in your solution"
   ]
  },
  {
   "cell_type": "code",
   "execution_count": 47,
   "metadata": {
    "id": "DigdBZN8bgk6",
    "outputId": "a030c850-ab7c-46d5-de6c-fad1dabeeec0"
   },
   "outputs": [
    {
     "name": "stdout",
     "output_type": "stream",
     "text": [
      "True\n"
     ]
    }
   ],
   "source": [
    "x = 25\n",
    "print(-5 <= x <= 256)"
   ]
  },
  {
   "cell_type": "markdown",
   "metadata": {
    "id": "r8ZTEq9ibgk6"
   },
   "source": [
    "**Problem 19** <br><br>\n",
    "Below are given three objects. Assign the value of a to b, the value of b to c and the value of c to a, using the minimum number of characters."
   ]
  },
  {
   "cell_type": "code",
   "execution_count": null,
   "metadata": {
    "id": "KB6gCaXBbgk6",
    "outputId": "ed857a97-344d-4753-c651-9379155ba370"
   },
   "outputs": [],
   "source": [
    "a=5; b=4; c=3\n",
    "a, b, c = c, a, b"
   ]
  },
  {
   "cell_type": "markdown",
   "metadata": {
    "id": "xpMUXbZ-bgk7"
   },
   "source": [
    "**Problem 20** <br><br>\n",
    "Exponentiation operator is the only operator in Python that has right-to-left associativity. Explain why this statement is True or False."
   ]
  },
  {
   "cell_type": "markdown",
   "metadata": {
    "id": "mWcVCtuybgk7"
   },
   "source": [
    "**Answer**: The statement is False, because exponentiation is not the only operator in Python that has right-to-left associativity. \n",
    "await, unary plus(+), unary minus(-) and Bitwise NOT(~) are also evaluated from right to left in Python."
   ]
  },
  {
   "cell_type": "markdown",
   "metadata": {
    "id": "GJVE1LmUbgk8"
   },
   "source": [
    "**Problem 21** <br>\n",
    "\n",
    "What is the order of evaluation in expressions bellow?\n",
    "\n",
    "a) 4-~-5<br>\n",
    "b) 2 ** 3 ** 8<br>\n",
    "c) False or False and False and True<br>\n",
    "d) True or False & True<br>"
   ]
  },
  {
   "cell_type": "markdown",
   "metadata": {
    "id": "8dk4yvtnN_30"
   },
   "source": [
    "**Answer**: a)Firstly makes 5 negative(which is 011 in binary system), then evaluates bitwise not of -5(which is 100 in binary system = 4), then subtracts 4 from 4. The result is 0 and here we have right-to-left associativity.\n",
    "b)Firstly calculates 3 ** 8 (6561) and then 2 ** 6561, here the associativity is from right to left.\n",
    "c)As 'and' has higher precedence than 'or' and associativity is from left to right, firstly it will check False and False, which is False. Then it will check False and True, which is False and finally will check False or False, which is again False.\n",
    "d)As Bitwise AND has higher precedence than Boolean or, firstly it will calculate False & True, which will give False and then will check True or False, which will return True, so here the associativity is from right to left.\n"
   ]
  },
  {
   "cell_type": "markdown",
   "metadata": {
    "id": "09D_Tw9zNs8n"
   },
   "source": [
    "**Problem 22** <br>\n",
    "\n",
    "Answer to the corresponding question for each expression:"
   ]
  },
  {
   "cell_type": "code",
   "execution_count": 2,
   "metadata": {},
   "outputs": [
    {
     "name": "stdout",
     "output_type": "stream",
     "text": [
      "0\n",
      "True\n",
      "True\n"
     ]
    }
   ],
   "source": [
    "#a) Why is the result not equal to 5?\n",
    "print(5 >> 3 << 3)\n",
    "\n",
    "#b) Why is the output True? \n",
    "a=4506; b=4506; print(a is not b)      \n",
    "\n",
    "#c) Why is the output True?\n",
    "print(pow(2,16) is not 2**16)      "
   ]
  },
  {
   "cell_type": "markdown",
   "metadata": {
    "id": "9_mm19DJPL_c"
   },
   "source": [
    "**Answer**: a) The answer is not 5 , because if we do calculations right we will see that it is equal to 0. 5 >> 3 = 5//2 ** 3, which is equal to 0, then 0 << 3 = 0 * 2 ** 3, which is equal to 0.\n",
    "b)The output is True, because 4506 does not belong to [-5, 256] range, which means the objects a,b have different identities and as \"is not\" operator checks the difference of object's ids, we have the result True.\n",
    "c)\"is not\" operator checks the identities of the objects. If ids are different, the operator returns True. In this case pow(2, 16) = 2 ** 16 = 65536, which does not belong to [-5, 256] range. So, as the identities are different \"is not\" returned True."
   ]
  },
  {
   "cell_type": "markdown",
   "metadata": {
    "id": "pZr8sx6qbgk3"
   },
   "source": [
    "**Problem 23** <br><br>\n",
    "Explain what random.seed() does and come up with at least one real-life use case of it."
   ]
  },
  {
   "cell_type": "markdown",
   "metadata": {
    "id": "N6ZFtmYRbgk4"
   },
   "source": [
    "**Answer**: The random number generator is not actually producing random numbers. It runs based on algorithms, which always have the same output and input. So, in order to make random numbers we should assign random function to random.seed(), because it depends on the value of the random.seed(). When we use specific number for the value of seed and then generate random number, we will see that the number is not random anymore. For example, if we call random.seed(5) and then generate a number, after which if we do the same steps from another device or Notebook we will see the same number each time. So, with the help of seed we can generate the same number in different executions, also we can generate different random numbers. \n",
    "\n",
    "Real-life use case of random.seed()- For example if people want to create a program for student's online exam, due to which students will choose the exam ticket. Each student will push the button and the program will randomly return the number of the exam ticket for that student. So, due to random.seed() the exam will be fair, as noone will know his/her ticket number beforehand, because this function will provide random ticket numbers to each student during the exam."
   ]
  },
  {
   "cell_type": "markdown",
   "metadata": {
    "id": "fWcn0Bkwbgk7"
   },
   "source": [
    "# END"
   ]
  }
 ],
 "metadata": {
  "colab": {
   "name": "Redacted_Homework_1_Part_1.ipynb",
   "provenance": []
  },
  "kernelspec": {
   "display_name": "Python 3",
   "language": "python",
   "name": "python3"
  },
  "language_info": {
   "codemirror_mode": {
    "name": "ipython",
    "version": 3
   },
   "file_extension": ".py",
   "mimetype": "text/x-python",
   "name": "python",
   "nbconvert_exporter": "python",
   "pygments_lexer": "ipython3",
   "version": "3.8.5"
  },
  "nteract": {
   "version": "0.28.0"
  }
 },
 "nbformat": 4,
 "nbformat_minor": 1
}
